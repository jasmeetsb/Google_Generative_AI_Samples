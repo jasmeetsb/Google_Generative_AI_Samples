{
 "cells": [
  {
   "cell_type": "markdown",
   "metadata": {
    "id": "HKcLm7WC7o9s"
   },
   "source": [
    "# Notebook showcasing use of Google Cloud GenAI(Palm API) + Doc AI to extract information from documents"
   ]
  },
  {
   "cell_type": "code",
   "execution_count": null,
   "metadata": {
    "colab": {
     "base_uri": "https://localhost:8080/"
    },
    "id": "70lij66aJZoV",
    "outputId": "4341d94e-5fc2-48a9-9c1a-6ed29ae62b16"
   },
   "outputs": [],
   "source": [
    "#install dependencies\n",
    "!pip install google-cloud-aiplatform --upgrade\n",
    "#!apt-get install poppler-utils\n",
    "!pip install google-cloud-core\n",
    "!pip install google-cloud-documentai\n",
    "!pip install google-cloud-storage\n",
    "!pip install simplejson\n",
    "#!pip install pdf2image"
   ]
  },
  {
   "cell_type": "code",
   "execution_count": null,
   "metadata": {},
   "outputs": [],
   "source": []
  },
  {
   "cell_type": "code",
   "execution_count": null,
   "metadata": {
    "colab": {
     "base_uri": "https://localhost:8080/",
     "height": 1000
    },
    "id": "GeB5akYjIOnG",
    "outputId": "086e434c-35a9-478c-ca6d-394916ca91b9"
   },
   "outputs": [],
   "source": []
  },
  {
   "cell_type": "code",
   "execution_count": 1,
   "metadata": {
    "id": "_tvj408TIDbd"
   },
   "outputs": [],
   "source": [
    "#import libraries\n",
    "from google.api_core.client_options import ClientOptions\n",
    "from google.cloud import documentai\n",
    "from PIL import Image, ImageDraw\n",
    "import os\n",
    "import pandas as pd\n",
    "from IPython.display import display, Image\n",
    "from pdf2image import convert_from_path, convert_from_bytes"
   ]
  },
  {
   "cell_type": "code",
   "execution_count": 2,
   "metadata": {
    "id": "WWi0T7F7JQmj"
   },
   "outputs": [],
   "source": []
  },
  {
   "cell_type": "code",
   "execution_count": null,
   "metadata": {},
   "outputs": [],
   "source": [
    "### Authenti"
   ]
  },
  {
   "cell_type": "code",
   "execution_count": null,
   "metadata": {
    "id": "03otjfCP8Eh2"
   },
   "outputs": [],
   "source": [
    "#Run only if using Google Colab Notebooks\n",
    "from google.colab import auth as google_auth\n",
    "google_auth.authenticate_user()"
   ]
  },
  {
   "cell_type": "code",
   "execution_count": 3,
   "metadata": {
    "id": "vyu4sq9n8Euv"
   },
   "outputs": [],
   "source": []
  },
  {
   "cell_type": "code",
   "execution_count": 3,
   "metadata": {},
   "outputs": [],
   "source": [
    "file_path='./sample_data/US_PTO_Sample.pdf'"
   ]
  },
  {
   "cell_type": "code",
   "execution_count": 8,
   "metadata": {},
   "outputs": [
    {
     "data": {
      "text/html": [
       "\n",
       "        <iframe\n",
       "            width=\"800\"\n",
       "            height=\"600\"\n",
       "            src=\"./sample_data/US_PTO_Sample.pdf\"\n",
       "            frameborder=\"0\"\n",
       "            allowfullscreen\n",
       "            \n",
       "        ></iframe>\n",
       "        "
      ],
      "text/plain": [
       "<IPython.lib.display.IFrame at 0x7fb49b096dd0>"
      ]
     },
     "execution_count": 8,
     "metadata": {},
     "output_type": "execute_result"
    }
   ],
   "source": [
    "from IPython.display import IFrame\n",
    "IFrame(file_path, width=800, height=600)"
   ]
  },
  {
   "cell_type": "code",
   "execution_count": null,
   "metadata": {},
   "outputs": [],
   "source": []
  },
  {
   "cell_type": "code",
   "execution_count": null,
   "metadata": {
    "colab": {
     "base_uri": "https://localhost:8080/",
     "height": 817
    },
    "id": "x9GfXM3XGy86",
    "outputId": "a87f25ea-d638-42e2-db0e-e4fc6f1a3635"
   },
   "outputs": [],
   "source": []
  },
  {
   "cell_type": "code",
   "execution_count": 12,
   "metadata": {
    "id": "iVni3cEcXPkV"
   },
   "outputs": [],
   "source": [
    "def process_document_sample(\n",
    "    project_id: str,\n",
    "    location: str,\n",
    "    processor_id: str,\n",
    "    file_path: str,\n",
    "    mime_type: str,\n",
    "    field_mask: str = None,\n",
    "):\n",
    "\n",
    "    client = documentai.DocumentProcessorServiceClient()\n",
    "\n",
    "    name = client.processor_path(project_id, location, processor_id)\n",
    "\n",
    "    # Import the file into memory\n",
    "    with open(file_path, \"rb\") as image:\n",
    "        image_content = image.read()\n",
    "\n",
    "    # Load the image content\n",
    "    raw_document = documentai.RawDocument(content=image_content, mime_type=mime_type)\n",
    "\n",
    "\n",
    "    request = documentai.ProcessRequest(\n",
    "        name=name, raw_document=raw_document\n",
    "    )\n",
    "\n",
    "    result = client.process_document(request=request)\n",
    "\n",
    "\n",
    "    document = result.document\n",
    "\n",
    "    # Read the text recognition output from the processor\n",
    "    return(document.text)\n",
    "\n"
   ]
  },
  {
   "cell_type": "code",
   "execution_count": 13,
   "metadata": {
    "id": "_LpZ91pqHMco"
   },
   "outputs": [],
   "source": [
    "from google.api_core.client_options import ClientOptions\n",
    "from google.cloud import documentai"
   ]
  },
  {
   "cell_type": "code",
   "execution_count": 14,
   "metadata": {
    "id": "QEV5JaTZXPne"
   },
   "outputs": [],
   "source": [
    "#For PDF Docs\n",
    "ocr_output = process_document_sample(\n",
    "  project_id=\"398507275014\",\n",
    "  location=\"us\",\n",
    "  processor_id=\"2fb6b1be15c7f2d\",\n",
    "    mime_type = 'application/pdf',\n",
    "    field_mask = None,\n",
    "  file_path= file_path\n",
    "#\"./genai_demo_data/demo_data.pdf\"\n",
    ")"
   ]
  },
  {
   "cell_type": "code",
   "execution_count": null,
   "metadata": {
    "id": "Y-2rk-TcvWIx"
   },
   "outputs": [],
   "source": [
    "#For TIFF docs\n",
    "ocr_output = process_document_sample(\n",
    "  project_id=\"398507275014\",\n",
    "  location=\"us\",\n",
    "  processor_id=\"2fb6b1be15c7f2d\",\n",
    "    mime_type = 'image/tiff',\n",
    "    field_mask = None,\n",
    "  file_path=\"./genai_demo_data/demo_data.tiff\"\n",
    ")"
   ]
  },
  {
   "cell_type": "code",
   "execution_count": 9,
   "metadata": {
    "colab": {
     "base_uri": "https://localhost:8080/"
    },
    "id": "4N90n_fLXUQK",
    "outputId": "96e32946-0928-4210-8b62-a58943f1e7be"
   },
   "outputs": [
    {
     "ename": "NameError",
     "evalue": "name 'ocr_output' is not defined",
     "output_type": "error",
     "traceback": [
      "\u001b[0;31m---------------------------------------------------------------------------\u001b[0m",
      "\u001b[0;31mNameError\u001b[0m                                 Traceback (most recent call last)",
      "\u001b[0;32m/tmp/ipykernel_15886/725866299.py\u001b[0m in \u001b[0;36m<module>\u001b[0;34m\u001b[0m\n\u001b[0;32m----> 1\u001b[0;31m \u001b[0mprint\u001b[0m\u001b[0;34m(\u001b[0m\u001b[0mocr_output\u001b[0m\u001b[0;34m[\u001b[0m\u001b[0;34m:\u001b[0m\u001b[0;36m1000\u001b[0m\u001b[0;34m]\u001b[0m\u001b[0;34m)\u001b[0m\u001b[0;34m\u001b[0m\u001b[0;34m\u001b[0m\u001b[0m\n\u001b[0m",
      "\u001b[0;31mNameError\u001b[0m: name 'ocr_output' is not defined"
     ]
    }
   ],
   "source": [
    "print(ocr_output[:1000])"
   ]
  },
  {
   "cell_type": "code",
   "execution_count": null,
   "metadata": {
    "id": "XBodi1YCXUZf"
   },
   "outputs": [],
   "source": []
  },
  {
   "cell_type": "code",
   "execution_count": null,
   "metadata": {
    "id": "yJf58J2UHp1Q"
   },
   "outputs": [],
   "source": [
    "#from google.colab import drive\n",
    "#drive.mount('/content/drive')\n",
    "#persistent_path = '/content/drive/Shareddrives/AIF LLM Demos/BigQuery'"
   ]
  },
  {
   "cell_type": "code",
   "execution_count": null,
   "metadata": {
    "id": "ylSAjPgvHp4k"
   },
   "outputs": [],
   "source": []
  },
  {
   "cell_type": "code",
   "execution_count": 13,
   "metadata": {
    "id": "rlK_Egd47rKn"
   },
   "outputs": [],
   "source": [
    "#from google.colab import auth as google_auth\n",
    "#google_auth.authenticate_user()\n",
    "\n",
    "from google.cloud import aiplatform\n",
    "from google.cloud.aiplatform.gapic.schema import predict\n",
    "from google.protobuf import json_format\n",
    "from google.protobuf.struct_pb2 import Value\n",
    "\n",
    "def predict_large_language_model_sample(\n",
    "    api_endpoint: str,\n",
    "    project: str,\n",
    "    endpoint_id: str,\n",
    "    content: str,\n",
    "    temperature: float,\n",
    "    max_decode_steps: int,\n",
    "    top_p: float,\n",
    "    top_k: int,\n",
    "    location: str = \"us-central1\",\n",
    "):\n",
    "  # The AI Platform services require regional API endpoints.\n",
    "  client_options = {\"api_endpoint\": api_endpoint}\n",
    "  # Initialize client that will be used to create and send requests.\n",
    "  # This client only needs to be created once, and can be reused for multiple requests.\n",
    "  client = aiplatform.gapic.PredictionServiceClient(\n",
    "      client_options=client_options\n",
    "  )\n",
    "  instance_dict = {\"content\": content}\n",
    "  instance = json_format.ParseDict(instance_dict, Value())\n",
    "  instances = [instance]\n",
    "  parameters_dict = {\n",
    "      \"temperature\": temperature,\n",
    "      \"maxDecodeSteps\": max_decode_steps,\n",
    "      \"topP\": top_p,\n",
    "      \"topK\": top_k,\n",
    "  }\n",
    "  parameters = json_format.ParseDict(parameters_dict, Value())\n",
    "  endpoint = client.endpoint_path(\n",
    "      project=project, location=location, endpoint=endpoint_id\n",
    "  )\n",
    "  response = client.predict(\n",
    "      endpoint=endpoint, instances=instances, parameters=parameters\n",
    "  )\n",
    "  #print(\"response\")\n",
    "  predictions = response.predictions\n",
    "  for prediction in predictions:\n",
    "    print(\" prediction:\", dict(prediction))\n",
    "    print(dict(prediction))\n",
    "  return(dict(prediction))\n",
    "\n"
   ]
  },
  {
   "cell_type": "code",
   "execution_count": null,
   "metadata": {
    "colab": {
     "base_uri": "https://localhost:8080/"
    },
    "id": "jRPl6cry7s5p",
    "outputId": "76d57a0e-d87e-4052-e9d7-d221c7e46749"
   },
   "outputs": [],
   "source": [
    "llm_output = predict_large_language_model_sample(\"us-central1-aiplatform.googleapis.com\", \"cloud-large-language-models\", \"4511608470067216384\", '''\"text\": \"RECORDING REQUESTED BY:\\\\nEscrow Technologies Inc.\\\\nOrder No. 1255381 D\\\\nEscrow No. N13-00200-TE\\\\nParcel No. 449-362-30\\\\nAND WHEN RECORDED MAIL TO:\\\\nJASMEET S. BHATIA\\\\n3972 BANYAN STREET\\\\nIRVINECA 92606\\\\nGRANT DEED\\\\nTHE UNDERSIGNED GRANTOR(S) DECLARE(S) THAT DOCUMENTARY TRANSFER TAX IS $881.10\\\\nX computed on full value of property conveyed, or\\\\ncomputed on full value less liens or encumbrances remaining at the time of sale.\\\\nunincorporated area:\\\\nX City of:\\\\nIrvine\\\\nFOR A VALUABLE CONSIDERATION, receipt of which is hereby acknowledged,\\\\n807 South Valley, LLC\\\\n}\\\\n}\\\\nRecorded in Official Records, Orange County\\\\nHugh Nguyen, Clerk-Recorder\\\\nhereby GRANT(S) to Jasmeet S. Bhatia and Shefali Dua, Husband And Wife As Community Property with\\\\nright of survivorship\\\\nthe following described real property in the City of Irvine, County of Orange, State of California:\\\\nIN BOOK 299\\\\nLot 63 of Tract no. 7464, in the City of Irvine, County of Orange, State of California, as per map recored\\\\nPAGES 24 to 30 of miscellaneous maps, in the office of the County Recorder of said County.\\\\nDate September 19, 2013\\\\n807 South Valley, LLC\\\\nS.S.\\\\n* $ RO 0 0 6 2 1 3 5 0 1 $ *\\\\n2013000551976 9:50 am 09/25/13\\\\n276 404 G02 2 26\\\\n440.55 440.55 0.00 0.00 3.00 0.00 0.00 0.00\\\\nSPACE ABOVE THIS LINE FOR RECORDER\\'S USE\\\\nMansoori\\\\nBy: Authorized Signor\\\\nSTATE OF CALIFORNIA\\\\nCOUNTY OF Orange\\\\nOn September 20, 2013 before me,\\\\nT Eden\\\\na notary public in and for said State, personally appeared Kamran Mansoori\\\\nwho proved to me on the basis of satisfactory evidence to be the person(s) whose name(s) is/are subscribed to the\\\\nwithin instrument and acknowledged to me that he/she/they executed the same in his/her/their authorized\\\\ncapacity(ies), and that by his/her/their signature(s) on the instrument the person(s), or the entity upon behalf of\\\\nwhich the person(s) acted, executed the instrument.\\\\n-9\\\\nWITNESS my hand and official sean\\\\nHap\\\\nSignature\\\\n(Seal)\\\\nRem Dala\\\\nAuthorized Signor\\\\nI certify under PENALTY OF PERJURY under the laws of the State of California that the foregoing paragraph is\\\\ntrue and correct.\\\\nsuber\\\\n9.00\\\\nm\\\\nT. EDEN\\\\nCommission # 1878759\\\\nNotary Public - California\\\\nOrange County\\\\nMy Comm. Expires Feb 6, 2014\\\\nMail Tax Statement to: SAME AS ABOVE or Address Noted Below\\\\nSTATE OF CALIFORNIA\\\\nCOUNTY OF Orange\\\\nOn September 20, 2013, before me,\\\\nT. Eden\\\\na notary public in and for said State, personally appeared Fahimi Rashid\\\\nwho proved to me on the basis of satisfactory evidence to be the person(s) whose name(s) is/are subscribed to the within\\\\ninstrument and acknowledged to me that he/she/they executed the same in his/her/their authorized capacity(ies), and that by\\\\nhis/her/their signature(s) on the instrument the person(s), or the entity upon behalf of which the person(s) acted, executed the\\\\ninstrument.\\\\nI certify under PENALTY OF PERJURY under the laws of the State of California that the foregoing paragraph is true and\\\\ncorrect.\\\\nWITNESS my hand and official seal,\\\\nSignature\\\\nCALIFORNIA ALL-PURPOSE ACKNOWLEDGEMENT\\\\n}\\\\n} S.S.\\\\nDESCRIPTION OF ATTACHED DOCUMENT\\\\nTitle or Type of Document: Grant Deed\\\\nDocument Date: September 20, 2013.\\\\nSigner(s) other than named above Kamran Mansoori\\\\nCORPORATE OFFICER(S)\\\\nTITLE(S)\\\\nPARTNER(S)-\\\\nCAPACITY (IES) CLAIMED BY SIGNER(S)\\\\nINDIVIDUAL\\\\nATTORNEY-IN-FACT\\\\nTRUSTEE(S)\\\\nOTHER\\\\nOPTIONAL\\\\nThough the information below is not required by law, it may prove valuable to persons relying\\\\non the document and could prevent fraudulent removal and reattachment of this form to another document.\\\\nLIMITED\\\\nGENERAL\\\\nGUARDIAN OR CONSERVATOR\\\\n(Seal)\\\\nSIGNER IS REPRESENTING:\\\\nRight Thumbprint\\\\nOf Signer\\\\nTop of thumb here\\\\nCLOT\\\\nNumber of Pages:\\\\n☐INDIVIDUAL\\\\none\\\\nT. EDEN\\\\nCommission # 1878759\\\\nNotary Public - California\\\\nOrange County\\\\nMy Comm. Expires Feb 6, 2014\\\\nCORPORATE OFFICER(S)\\\\nTITLE(S)\\\\nPARTNER(S) ☐ LIMITED\\\\nGENERAL\\\\n☐TRUSTEE(S)\\\\nATTORNEY-IN-FACT\\\\nOTHER\\\\nGUARDIAN OR CONSERVATOR\\\\nRight Thumbprint\\\\nof Signer\\\\nTop of thumb here\\\\nORANGE\\\\nORANGE COUNTY\\\\nHALL OF RECORDS AND FINANCE\\\\n12 CIVIC CENTER PLAZA, ROOM 101, P.O. BOX 238, SANTA ANA, CALIFORNIA 92702-0238\\\\nPHONE (714) 834-2500 FAX (714) 834-2675\\\\n807 South Valley LLC\\\\n3972 Banyan St\\\\nIrvine, CA 92606-2630\\\\nCLERK-RECORDER\\\\nDear Valued Customer,\\\\nWWW.OCRECORDER.COM\\\\nCOURTESY NOTICE\\\\nSUBJECT: GRANT DEED RECORDING CONFIRMATION\\\\nOctober 8, 2013\\\\nThe Orange County Clerk-Recorder Department is working to protect our customers from\\\\npotential fraudulent and illegal activities.\\\\nOne step we\\'re taking is to send out courtesy notices regarding recent property recording\\\\ntransactions. This is to ensure legitimacy and accuracy.\\\\nOur records indicate that a grant deed was recently recorded under your name in our office.\\\\nPlease find enclosed a copy of the grant deed for your reference.\\\\nIF THE ABOVE TRANSACTION IS CORRECT, NO ACTION ON YOUR PART IS\\\\nREQUIRED.\\\\nIf you are unaware of this recording, please call your local law enforcement agency as soon as\\\\npossible to further investigate.\\\\nIf you have any questions, please contact the Clerk-Recorder Department at (714) 834-2500. For\\\\nmore information regarding real property fraud, please read the enclosed blue sheet, or visit us\\\\nonline at www.ocrecorder.com.\\\\nThank you for your business and our department looks forward to serving you again.\\\\n\"\n",
    "\n",
    "Give me a bulleted list of following information extracted form text above:\n",
    "- Name of Seller 1\n",
    "- Seller 1 Type\n",
    "-  If seller is an LLC, then name of the officer of the LLC\n",
    "- Name of Seller 2\n",
    "- Name of buyer 1\n",
    "- Name of buyer 2\n",
    "- Name of buyer 3\n",
    "- Type of ownership\n",
    "- Name of Title Company\n",
    "- Address of the property\n",
    "- Title Order number\n",
    "- Document transfer tax\n",
    "- List of parcels\n",
    "- Property details''', 0.2, 256, 0.8, 40, \"us-central1\")"
   ]
  },
  {
   "cell_type": "code",
   "execution_count": 4,
   "metadata": {
    "colab": {
     "base_uri": "https://localhost:8080/"
    },
    "id": "sh7JVq84Ywh9",
    "outputId": "025744c2-cf2b-4029-ee4c-39141b0225b2"
   },
   "outputs": [],
   "source": [
    "#print(llm_output['content'])"
   ]
  },
  {
   "cell_type": "code",
   "execution_count": null,
   "metadata": {
    "id": "Af_AqjRmZR8P"
   },
   "outputs": [],
   "source": []
  },
  {
   "cell_type": "code",
   "execution_count": 16,
   "metadata": {
    "id": "t3h-4vIgtgh0"
   },
   "outputs": [],
   "source": [
    "prompt_suffix = '''What is the name of the inventor(s)?'''\n",
    "\n"
   ]
  },
  {
   "cell_type": "code",
   "execution_count": 17,
   "metadata": {
    "colab": {
     "base_uri": "https://localhost:8080/",
     "height": 122
    },
    "id": "rR3djNdVZsTs",
    "outputId": "412e3b47-57b0-4a89-e04f-7e06797843ff"
   },
   "outputs": [
    {
     "data": {
      "text/plain": [
       "'(12) United States Patent\\nLethin et al.\\n(54) METHODS AND APPARATUS FOR LOCAL\\nMEMORY COMPACTION\\n(75) Inventors: Richard A. Lethin, New York, NY (US);\\nAllen K. Leung, New York, NY (US);\\nBenoit J. Meister, New York, NY (US);\\nNicolas T. Vasilache, New York, NY\\n(US); David E. Wohlford, Portland, OR\\n(US)\\n(73) Assignee: Reservoir Labs, Inc., New York, NY\\n(US)\\n(*) Notice:\\n(21) Appl. No.: 12/365,780\\n(22) Filed:\\nFeb. 4, 2009\\n(65)\\nPrior Publication Data\\nUS 2010/0192138 A1 Jul. 29, 2010\\nRelated U.S. Application Data\\n(60) Provisional application No. 61/065,294, filed on Feb.\\n8, 2008.\\n(51) Int. Cl.\\n(56)\\nSubject to any disclaimer, the term of this\\npatent is extended or adjusted under 35\\nU.S.C. 154(b) by 1287 days.\\nG06F 9/45\\n(52) U.S. CI.\\nUSPC\\n(58)\\n5,442,699 A\\n5,442,797 A\\n5,613,136 A\\n(2006.01)\\nField of Classification Search\\nUSPC\\nSee application file for complete search history.\\nReferences Cited\\nU.S. PATENT DOCUMENTS\\n717/151\\n8/1995 Arnold et al.\\n8/1995 Casavant et al.\\n3/1997 Casavant et al.\\n717/151\\nStart\\n(10) Patent No.:\\n(45) Date of Patent:\\n5,742,814 A\\n5,920,854 A\\n5,953,531 A\\n6,006,033 A\\n6,018,735 A\\n6,038,398 A\\n6,131,092 A\\n6,279,113 B1\\n6,327,699 B1\\n6,338,057 B1\\n6,651,246 B1\\n6,754,650 B2\\nOTHER PUBLICATIONS\\nInternational Report on Patentability dated Mar. 31, 2011 for PCT\\nApplication No. PCT/US2009/057194.\\nReceive source code representing loops\\nwith arbitrary parametric affine iteration\\ndomains containing at least one array\\nreference\\nComplete\\n(Continued)\\nPrimary Examiner - Idriss N Alrobaye\\nAssistant Examiner - Brooke Taylor\\n(74) Attorney, Agent, or Firm - Goodwin Procter LLP\\nIdentify inefficiencies in memory usage\\nrelated to the memory footprint of the at\\nleast one array\\n(57)\\nABSTRACT\\nMethods, apparatus and computer software product for local\\nmemory compaction are provided. In an exemplary embodi-\\nment, a processor in connection with a memory compaction\\nmodule identifies inefficiencies in array references contained\\nwithin in received source code, allocates a local array and\\nmaps the data from the inefficient array reference to the local\\narray in a manner which improves the memory size require-\\nments for storing and accessing the data. In another embodi-\\nment, a computer software product implementing a local\\nmemory compaction module is provided. In a further embodi-\\nment a computing apparatus is provided. The computing\\napparatus is configured to improve the efficiency of data\\nstorage in array references. This Abstract is provided for the\\nsole purpose of complying with the Abstract requirement\\nrules. This Abstract is submitted with the explicit understand-\\ning that it will not be used to interpret or to limit the scope or\\nthe meaning of the claims.\\n39 Claims, 9 Drawing Sheets\\nAllocate at least one local array\\nMap a portion of the at least one array to\\none of the at least one local array.\\nUS008661422B2\\n10\\n20\\nUS 8,661,422 B2\\nFeb. 25, 2014\\n30\\n4/1998 Balasa et al.\\n7/1999 Kirsch et al.\\n9/1999 Megiddo et al.\\n12/1999 Heisch\\n1/2000 Hunter\\n3/2000 Schooler\\n10/2000 Masand\\n8/2001 Vaidya\\n12/2001 Larus et al.\\n1/2002 Weeks\\n11/2003 Archambault et al.\\n6/2004 Cho et al.\\n(Continued)\\n40\\n(56)\\nReferences Cited\\nU.S. PATENT DOCUMENTS\\n8/2004 Danckaert et al.\\n8/2004 Fritchman\\nAkaboshi\\n6,772,415 B1\\n6,785,677 B1\\n6,792,546 B1\\n6,880,087 B1\\n6,912,526 B2\\n6,952,694 B2\\n6,952,821 B2\\n7,086,038 B2\\n7,185,327 B2\\n7,225,188 B1\\n7,260,558 B1\\n7,594,260 B2\\n7,634,566 B2\\n7,757,222 B2\\n10/2005 Mathur et al.\\n10/2005 Schreiber\\n8/2006 Cronquist et al.\\n2/2007 Scales\\n5/2007 Gai et al.\\n8/2007 Cheng et al.\\n9/2009 Porras et al.\\nTurner et al.\\nLiao et al.\\n12/2009\\n7/2010\\n8,087,010 B2 12/2011 Eichenberger et al.\\n8,108,845 B2 1/2012 Little et al.\\n7/2012 Eng\\n8,230,408 B2\\n8,250,550 B2 8/2012 Luszczek et al.\\n8,255,890 B2 8/2012 Luszczek et al.\\n8,307,347 B2 11/2012 Austin et al.\\n2002/0021838 Al 2/2002 Richardson et al.\\n2003/0097652 Al 5/2003 Roediger et al.\\n2004/0034754 A1 2/2004 Schreiber\\n2004/0068501 A1 4/2004 McGoveran\\n2005/0114700 A1 5/2005 Barrie et al.\\n2006/0048121 Al 3/2006 Blainey et al.\\n2006/0048123 Al 3/2006 Martin\\n2006/0085858 Al\\n2007/0033367 A1*\\n2007/0074195 Al\\n2007/0192861 Al\\n2008/0010680 Al\\n2009/0037889 A1*\\n4/2006 Noel et al.\\n2/2007 Sakarda et al.\\n3/2007 Liao et al.\\n8/2007 Varghese et al.\\n1/2008 Cao et al.\\n2/2009 Li et al.\\n2009/0083724 A1* 3/2009 Eichenberger et al.\\n2009/0119677 Al 5/2009 Stefansson et al.\\n9/2004 Shanklin et al.\\n4/2005 Carter\\n6/2005\\n2009/0259997 A1 10/2009 Grover et al.\\n2009/0307673 Al\\n2010/0050164 Al\\n2010/0162225 A1\\n12/2009 Eichenberger et al.\\n2/2010 Van De Waerdt et al.\\n6/2010 Huang et al.\\nOTHER PUBLICATIONS\\nUS 8,661,422 B2\\nPage 2\\n711/170\\n717/140\\n717/160\\nInternational Search Report and the Written Opinion dated Mar. 18,\\n2010 for PCT Application No. PCT/US2009/057194.\\nSoftware Tools to Optimize BMD Radar Algorithms to COTS Hard-\\nware: Phase II Proposal, Reservoir Labs, Inc., Topic No. MDA06-\\n031, Proposal No. B2-1415.\\nOptimizing and Mapping Tool Chain for FPGA Programming-\\nPhase II Proposal, Reservoir Labs, Inc., Topic No. SB062-006, Pro-\\nposal No. D2-0627.\\nDarte and Vivien\\'s Algorithm, \"Chapter 5: Parallelism Detection In\\nNested Loops\", pp. 193-226.\\n\"The Cell Roadmap\", Published on PPCNUX at http://www.ppcnux.\\ncom/?q=print/6666.\\n\"ClearSpeed™ Introductory Programming Manual The\\nClearSpeed Software Development Kit\", ClearSpeed Technology\\nInc. 2007.\\n\"ClearSpeed™ ClearSpeed Programming Model: An introduction\",\\nClearSpeed Technology Inc. 2007.\\n\"ClearSpeed™ ClearSpeed Programming Model: Card-side Librar-\\nies\", ClearSpeed Technology Inc. 2007.\\n\"ClearSpeed™ ClearSpeed Programming Model: Optimizing Per-\\nformance\", ClearSpeed Technology Inc. 2007.\\nAyers et al, Aggressive inlining, PLDI \\'92 Las Vegas, NV, USA.\\nBastoul, \"Efficient Code Generation for Automatic Parallelization\\nand Optimization\", Proceedings of the Second International Sympo-\\nsium on Parallel and Distributed Computing, 2003.\\nBastoul, \"Code Generation in the Polyhedral Model Is Easier Than\\nYou Think\", Proceedings of the 13th International Conference on\\nParallel Architecture and Compilation Techniques, 2004.\\nBastoul et al, \"Putting Polyhedral Loop Transformations to Work\",\\nINRIA, No. 4902, Jul. 2003.\\nBondhugula et al, \"Automatic Mapping of Nested Loops to FPGAs\",\\nOSU, Mar. 19, 2007.\\nBondhugula et al, \"A Practical and Fully Automatic Polyhedral Pro-\\ngram Optimization System\", OSU OSU-CISRC-10/07-TR70, Dec.\\n14, 2007.\\nCifuentes, \"Structuring Decompiled Graphs\", Department of Com-\\nputer Science, Univ. of Tasmania, 1994.\\nCifuentes, \"Structuring Decompiled Graphs\", Department of Com-\\nputer Science, Univ. of Tasmania, 1996.\\nClauss et al, \"Deriving Formulae to Count Solutions to Parameterized\\nLinear Systems using Ehrhart Polynomials: Applications to the\\nAnalysis of Nested-Loop Programs\", Apr. 10, 1997.\\nCollard et al, \"Automatic Generation of Data Parallel Code\", Pro-\\nceedings of the Fourth International Workshop on Compilers for\\nParallel Computers, Dec. 1993.\\nCollberg et al, \"Manufacturing Cheap, Resilient, and Stealthy\\nOpaque Constructs\", POPL 98, San Diego, CA 1998.\\nDarte et al, \"Revisiting the decomposition of Karp, Miller and\\nWinograd\", Parallel Processing Letters, 1995.\\nFeautrier, \"Array Expansion\", Labratoire PRISM, Jul. 1998.\\nFeautrier, \"Some efficient solutions to the affine scheduling problem\\nPart I One-dimensional Time\", Laboratoire MASI, Institute Blaise\\nPascal, Universite de Versailles St-Quentin, Apr. 23, 1993.\\nFerrante et al, \"The Program Dependence Graph and Its Use in\\nOptimization\", ACM Transactions on Programming Languages and\\nSystems, vol. 9, No. 3, Jul. 1987, pp. 319-349.\\nFranke et al, \"Compiler Transformation of Pointers to Explicit Array\\nAccesses in DSP Applications\", Institute for Computing Systems\\nArchitecture (ICSA), University of Edinburgh.\\nGautam et al, \"The Z-Polyhedral Model\", PPOPP\\'07, San Jose, CA\\nMar. 14-17, 2007.\\nGriebl, \"On the Mechanical Tiling of Space-Time Mapped Loop\\nNests\", Fakultat fur Mthemetik and Informatik, Universitat Passau,\\nGermany.\\nGriebl et al, \"Space-Time Mapping and Tiling: A Helpful Combina-\\ntion\", Concurrency and Comput.: Pract. Exper. 2004, 16:221-246.\\nGriebl, \"Automatic Parallelization of Loop Programs for Distributed\\nMemory Architectures\" Fakultat fur Mathematik und Informatik,\\nJun. 2, 2004.\\nGriebl et al, \"Forward Communication Only Placements and their\\nUse for Parallel Program Construction\", University of Passau.\\nIrigoin et al, \"Supernode Partitioning\", Proceedings of the 15th\\nAnnual ACM, SIGACT-SIGPLAN Symposium on Principles of Pro-\\ngramming Languages, San Diego, CA, Jan. 1988.\\nJimenez et al, \"Register Tiling in Nonrectangular Iteration Spaces\",\\nACM Transactions on Programming Languages and Systems, vol.\\n24, No. 4, pp. 409-453, Jul. 2002.\\nKandemir et al, \"Optimizing Spatial Locality in Loop Nests using\\nLinear Algebra\", Proc. 7th International Workshop on Compliers for\\nParallel Computers, Sweden Jun. 1998.\\nLethin, \"Software Tools to Optimize BMD Radar Algorithms to\\nCOTS Hardware-Final Report\", Sep. 12, 2007.\\nLethin et al, \"Mapping Loops for the ClearSpeed Processor Using the\\nR-Stream Compiler\", Feb. 4, 2008.\\nLethin et al, \"The R-Stream 3.0 Compiler\", Feb. 4, 2008.\\nLim et al, \"Maximizing Parallelism and Minimizing Synchronization\\nwith Affine Transforms\", 24th Annual ACM SIGPLAN-SIGACT\\nSymposium on Principles of Programming Languages, Paris, France,\\nJan. 1997.\\nLoechner et al, \"Precise Data Locality Optimization of Nested\\nLoops\", The Journal of Supercomputing, 21, pp. 37-76, 2002.\\nMeister et al, \"Optimizing and Mapping Tool Chain for FPGA Pro-\\ngramming Final Report Phase 1 SBIR Project\", Sep. 28, 2007.\\nPop et al, \"Induction Variable Analysis with Delayed Abstractions\",\\nACM Transactions on Architecture and Code Optimization, vol. V,\\nNo. N, pp. 1-30, Aug. 2005.\\nPop et al, \"Fast Recognition of Scalar Evolutions on Three-Address\\nSSA Code\", CRI/ENSMP Research Report, A/354/CRI, Apr. 1,\\n2004.\\nQuillere et al, \"Generation of Efficient Nested Loops from Polyhe-\\ndra\" 2000 Kluwer Academic Publishers, 2000.\\nQuinton et al, \"On Manipulating Z-polyhedra\", IRISA, Publication\\nInterne No. 1016, Jul. 1996.\\nWhat is the name of the inventor(s)?'"
      ]
     },
     "execution_count": 17,
     "metadata": {},
     "output_type": "execute_result"
    }
   ],
   "source": [
    "ocr_text = ocr_output+prompt_suffix\n",
    "\n",
    "ocr_text\n"
   ]
  },
  {
   "cell_type": "code",
   "execution_count": 20,
   "metadata": {
    "colab": {
     "base_uri": "https://localhost:8080/"
    },
    "id": "tYMmq3tfaW5c",
    "outputId": "9fc304a3-8066-4d34-fc66-13fa6bccbdac"
   },
   "outputs": [
    {
     "name": "stdout",
     "output_type": "stream",
     "text": [
      " prediction: {'safetyAttributes': <proto.marshal.collections.maps.MapComposite object at 0x7fc9dfeec310>, 'content': 'Seller 1: Reayoung, LLC, a New York Limited Liability Company\\nSeller 1 Type: LLC\\nSeller 1 Officer: Feng Pan\\nSeller 2: \\nBuyer 1: Jasmeet Bhatia and Shefali Dua, Husband and Wife as Community Property with Right of Survivorship\\nBuyer 2: \\nBuyer 3: \\nType of ownership: Community Property with Right of Survivorship\\nTitle Company: Fidelity National Title\\nAddress of the property: 34 Lowland\\nIrvine, CA 92602\\nTitle Order number: 00371527-997-OC1-JA1\\nDocument transfer tax: 3113.00\\nList of parcels:\\nParcel 1:\\nLOT 1 OF TRACT NO. 16703, IN THE CITY OF IRVINE, COUNTY OF ORANGE, STATE OF CALIFORNIA, AS\\nSHOWN ON A MAP RECORDED IN BOOK 921, PAGES 14 THROUGH 19, INCLUSIVE, OF MISCELLANEOUS\\nMAPS IN THE OFFICE OF THE COUNTY RECORDER FOR ORANGE COUNTY, CALIFORNIA.'}\n",
      "{'safetyAttributes': <proto.marshal.collections.maps.MapComposite object at 0x7fc9dfeefb50>, 'content': 'Seller 1: Reayoung, LLC, a New York Limited Liability Company\\nSeller 1 Type: LLC\\nSeller 1 Officer: Feng Pan\\nSeller 2: \\nBuyer 1: Jasmeet Bhatia and Shefali Dua, Husband and Wife as Community Property with Right of Survivorship\\nBuyer 2: \\nBuyer 3: \\nType of ownership: Community Property with Right of Survivorship\\nTitle Company: Fidelity National Title\\nAddress of the property: 34 Lowland\\nIrvine, CA 92602\\nTitle Order number: 00371527-997-OC1-JA1\\nDocument transfer tax: 3113.00\\nList of parcels:\\nParcel 1:\\nLOT 1 OF TRACT NO. 16703, IN THE CITY OF IRVINE, COUNTY OF ORANGE, STATE OF CALIFORNIA, AS\\nSHOWN ON A MAP RECORDED IN BOOK 921, PAGES 14 THROUGH 19, INCLUSIVE, OF MISCELLANEOUS\\nMAPS IN THE OFFICE OF THE COUNTY RECORDER FOR ORANGE COUNTY, CALIFORNIA.'}\n"
     ]
    }
   ],
   "source": [
    "llm_output = predict_large_language_model_sample(\"us-central1-aiplatform.googleapis.com\", \n",
    "                                                 \"cloud-large-language-models\", \n",
    "                                                 \"4511608470067216384\", \n",
    "                                                 ocr_text, \n",
    "                                                 0.2, 256, 0.8, 40, \n",
    "                                                 \"us-central1\")"
   ]
  },
  {
   "cell_type": "code",
   "execution_count": null,
   "metadata": {},
   "outputs": [],
   "source": [
    "llm_output = predict_large_language_model_sample(\"us-central1-aiplatform.googleapis.com\", \n",
    "                                                 \"cloud-large-language-models\", \n",
    "                                                 \"4511608470067216384\", \n",
    "                                                 ocr_text, \n",
    "                                                 0.2, 256, 0.8, 40, \n",
    "                                                 \"us-central1\")"
   ]
  },
  {
   "cell_type": "code",
   "execution_count": 21,
   "metadata": {
    "colab": {
     "base_uri": "https://localhost:8080/"
    },
    "id": "x-fT8JlIag9E",
    "outputId": "ce8aaa70-6470-4835-f9ab-7f6fa321e78b"
   },
   "outputs": [
    {
     "name": "stdout",
     "output_type": "stream",
     "text": [
      "Seller 1: Reayoung, LLC, a New York Limited Liability Company\n",
      "Seller 1 Type: LLC\n",
      "Seller 1 Officer: Feng Pan\n",
      "Seller 2: \n",
      "Buyer 1: Jasmeet Bhatia and Shefali Dua, Husband and Wife as Community Property with Right of Survivorship\n",
      "Buyer 2: \n",
      "Buyer 3: \n",
      "Type of ownership: Community Property with Right of Survivorship\n",
      "Title Company: Fidelity National Title\n",
      "Address of the property: 34 Lowland\n",
      "Irvine, CA 92602\n",
      "Title Order number: 00371527-997-OC1-JA1\n",
      "Document transfer tax: 3113.00\n",
      "List of parcels:\n",
      "Parcel 1:\n",
      "LOT 1 OF TRACT NO. 16703, IN THE CITY OF IRVINE, COUNTY OF ORANGE, STATE OF CALIFORNIA, AS\n",
      "SHOWN ON A MAP RECORDED IN BOOK 921, PAGES 14 THROUGH 19, INCLUSIVE, OF MISCELLANEOUS\n",
      "MAPS IN THE OFFICE OF THE COUNTY RECORDER FOR ORANGE COUNTY, CALIFORNIA.\n"
     ]
    }
   ],
   "source": [
    "print(llm_output['content'])"
   ]
  },
  {
   "cell_type": "code",
   "execution_count": null,
   "metadata": {
    "id": "WdO2uNTX53w4"
   },
   "outputs": [],
   "source": []
  },
  {
   "cell_type": "code",
   "execution_count": 18,
   "metadata": {
    "id": "WkB9bacP2b_Q"
   },
   "outputs": [],
   "source": [
    "#from google.cloud import vertexai\n",
    "import vertexai\n",
    "from vertexai.preview.language_models import TextGenerationModel\n",
    "\n",
    "def predict_large_language_model_sample(\n",
    "    project_id: str,\n",
    "    model_name: str,\n",
    "    temperature: float,\n",
    "    max_decode_steps: int,\n",
    "    top_p: float,\n",
    "    top_k: int,\n",
    "    content: str,\n",
    "    location: str = \"us-central1\",\n",
    "    tuned_model_name: str = \"\",\n",
    "    ) :\n",
    "    \"\"\"Predict using a Large Language Model.\"\"\"\n",
    "    vertexai.init(project=project_id, location=location)\n",
    "    model = TextGenerationModel.from_pretrained(model_name)\n",
    "    if tuned_model_name:\n",
    "      model = model.get_tuned_model(tuned_model_name)\n",
    "    response = model.predict(\n",
    "        content,\n",
    "        temperature=temperature,\n",
    "        max_output_tokens=max_decode_steps,\n",
    "        top_k=top_k,\n",
    "        top_p=top_p,)\n",
    "    print(f\"Response from Model: {response.text}\")\n"
   ]
  },
  {
   "cell_type": "code",
   "execution_count": 20,
   "metadata": {},
   "outputs": [
    {
     "name": "stdout",
     "output_type": "stream",
     "text": [
      "Response from Model: Richard A. Lethin, Allen K. Leung, Benoit J. Meister, Nicolas T. Vasilache, David E. Wohlford\n"
     ]
    }
   ],
   "source": [
    "predict_large_language_model_sample(\"jsb-alto\", \"text-bison@001\", 0.2, 256, 0.8, 40, \n",
    "                                    ocr_text, \n",
    "                                    \"us-central1\")"
   ]
  },
  {
   "cell_type": "code",
   "execution_count": null,
   "metadata": {},
   "outputs": [],
   "source": []
  }
 ],
 "metadata": {
  "colab": {
   "provenance": []
  },
  "environment": {
   "kernel": "python3",
   "name": "tf2-gpu.2-8.m94",
   "type": "gcloud",
   "uri": "gcr.io/deeplearning-platform-release/tf2-gpu.2-8:m94"
  },
  "kernelspec": {
   "display_name": "Python 3",
   "language": "python",
   "name": "python3"
  },
  "language_info": {
   "codemirror_mode": {
    "name": "ipython",
    "version": 3
   },
   "file_extension": ".py",
   "mimetype": "text/x-python",
   "name": "python",
   "nbconvert_exporter": "python",
   "pygments_lexer": "ipython3",
   "version": "3.7.12"
  }
 },
 "nbformat": 4,
 "nbformat_minor": 4
}
