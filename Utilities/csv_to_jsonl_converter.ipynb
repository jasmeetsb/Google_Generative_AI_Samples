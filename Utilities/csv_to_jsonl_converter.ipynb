{
 "cells": [
  {
   "cell_type": "markdown",
   "id": "4fe8198a-e689-4de5-b59a-e51fbf53fb37",
   "metadata": {},
   "source": [
    "## This notebook showcases how to convert csv file to jsonl format, to use it as input for Vertex AI GenAI Model Tuning"
   ]
  },
  {
   "cell_type": "code",
   "execution_count": null,
   "id": "fdf92913-8fdf-4257-bf6e-3ba3d239b215",
   "metadata": {},
   "outputs": [],
   "source": []
  },
  {
   "cell_type": "code",
   "execution_count": null,
   "id": "2d06f261-3665-4150-bef2-4ffc3e687005",
   "metadata": {},
   "outputs": [],
   "source": [
    "## Convert csv to jsonl format ofr GenAI tuning"
   ]
  },
  {
   "cell_type": "code",
   "execution_count": null,
   "id": "5ca386d7-c8ef-429c-9953-b4cedb3e3d5d",
   "metadata": {},
   "outputs": [],
   "source": []
  },
  {
   "cell_type": "code",
   "execution_count": 8,
   "id": "17f50a39-97ee-45f1-826f-a44cf0a1fb86",
   "metadata": {},
   "outputs": [],
   "source": [
    "\n"
   ]
  },
  {
   "cell_type": "code",
   "execution_count": null,
   "id": "5f9cdbcf-7639-4565-943d-b7991eb73c7e",
   "metadata": {},
   "outputs": [],
   "source": []
  },
  {
   "cell_type": "code",
   "execution_count": 9,
   "id": "fadb02e6-7d15-4225-bd9b-943d91881f8b",
   "metadata": {},
   "outputs": [],
   "source": [
    "import csv\n",
    "import json\n",
    "\n",
    "input_file = \"input.csv\"  # Replace with the path to your CSV file\n",
    "output_file = \"output2.jsonl\"  # Replace with the desired output JSONL file path\n",
    "\n",
    "with open(input_file, \"r\", encoding=\"utf-8-sig\") as csv_file, open(output_file, \"w\", encoding=\"utf-8\") as jsonl_file:\n",
    "    csv_reader = csv.DictReader(csv_file)\n",
    "    for row in csv_reader:\n",
    "        json.dump(row, jsonl_file)\n",
    "        jsonl_file.write(\"\\n\")\n"
   ]
  },
  {
   "cell_type": "code",
   "execution_count": null,
   "id": "3b46b041-e8b6-4920-8e5b-b7e1d40cee18",
   "metadata": {},
   "outputs": [],
   "source": []
  }
 ],
 "metadata": {
  "environment": {
   "kernel": "python3",
   "name": "tf2-gpu.2-8.m94",
   "type": "gcloud",
   "uri": "gcr.io/deeplearning-platform-release/tf2-gpu.2-8:m94"
  },
  "kernelspec": {
   "display_name": "Python 3",
   "language": "python",
   "name": "python3"
  },
  "language_info": {
   "codemirror_mode": {
    "name": "ipython",
    "version": 3
   },
   "file_extension": ".py",
   "mimetype": "text/x-python",
   "name": "python",
   "nbconvert_exporter": "python",
   "pygments_lexer": "ipython3",
   "version": "3.7.12"
  }
 },
 "nbformat": 4,
 "nbformat_minor": 5
}
